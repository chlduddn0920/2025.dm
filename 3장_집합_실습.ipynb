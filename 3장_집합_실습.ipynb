{
  "nbformat": 4,
  "nbformat_minor": 0,
  "metadata": {
    "colab": {
      "provenance": [],
      "authorship_tag": "ABX9TyNvXv3/hZpmIV0P/hVVtg2s",
      "include_colab_link": true
    },
    "kernelspec": {
      "name": "python3",
      "display_name": "Python 3"
    },
    "language_info": {
      "name": "python"
    }
  },
  "cells": [
    {
      "cell_type": "markdown",
      "metadata": {
        "id": "view-in-github",
        "colab_type": "text"
      },
      "source": [
        "<a href=\"https://colab.research.google.com/github/chlduddn0920/2025.dm/blob/main/3%EC%9E%A5_%EC%A7%91%ED%95%A9_%EC%8B%A4%EC%8A%B5.ipynb\" target=\"_parent\"><img src=\"https://colab.research.google.com/assets/colab-badge.svg\" alt=\"Open In Colab\"/></a>"
      ]
    },
    {
      "cell_type": "code",
      "execution_count": 1,
      "metadata": {
        "colab": {
          "base_uri": "https://localhost:8080/"
        },
        "id": "BJMn6mA90KCW",
        "outputId": "09bd0e41-d6d3-469c-c080-64ce3685318b"
      },
      "outputs": [
        {
          "output_type": "stream",
          "name": "stdout",
          "text": [
            "{1, 2, 3}\n",
            "{2, 3, 4}\n",
            "{2, 3}\n",
            "{1, 2, 3, 4}\n",
            "{1}\n"
          ]
        }
      ],
      "source": [
        "s1=set([1,2,3])\n",
        "print(s1)\n",
        "s2=set([2,3,4])\n",
        "print(s2)\n",
        "\n",
        "print(s1 & s2)\n",
        "print(s1 | s2)\n",
        "print(s1 - s2)"
      ]
    },
    {
      "cell_type": "code",
      "source": [
        "bankA_customers = set([\"김철수\",\"이영희\",\"박민수\",\"최지우\"])\n",
        "bankB_customers = set([\"이영희\",\"최지우\",\"정우성\",\"한지민\"])\n",
        "\n",
        "print(\"은행 A 고객:\", bankA_customers)\n",
        "print(\"은행 B 고객:\", bankB_customers)\n",
        "\n",
        "total_customers = bankA_customers | bankB_customers\n",
        "print(\"합병 후 전체 고객:\", total_customers)\n",
        "\n",
        "common_customers = bankA_customers & bankB_customers\n",
        "print(\"공통 고객:\", common_customers)\n",
        "\n",
        "only_A_customers = bankA_customers - bankB_customers\n",
        "print(\"A 은행에만 있는 고객:\", only_A_customers)\n",
        "\n",
        "only_B_customers = bankB_customers - bankA_customers\n",
        "print(\"B 은행에만 있는 고객:\", only_B_customers)"
      ],
      "metadata": {
        "colab": {
          "base_uri": "https://localhost:8080/"
        },
        "id": "OumkWJAk2M5F",
        "outputId": "591add7c-7fbe-4b66-c408-a55574b7c6cd"
      },
      "execution_count": 2,
      "outputs": [
        {
          "output_type": "stream",
          "name": "stdout",
          "text": [
            "은행 A 고객: {'김철수', '최지우', '박민수', '이영희'}\n",
            "은행 B 고객: {'최지우', '정우성', '한지민', '이영희'}\n",
            "합병 후 전체 고객: {'박민수', '정우성', '한지민', '김철수', '이영희', '최지우'}\n",
            "공통 고객: {'이영희', '최지우'}\n",
            "A 은행에만 있는 고객: {'김철수', '박민수'}\n",
            "B 은행에만 있는 고객: {'정우성', '한지민'}\n"
          ]
        }
      ]
    },
    {
      "cell_type": "code",
      "source": [
        "import numpy as np\n",
        "\n",
        "faber_castell_colors = {\n",
        "    \"White\" : (255, 255, 255),\n",
        "    \"Black\" : (0, 0, 0),\n",
        "    \"Brown\" : (150, 75, 0),\n",
        "    \"Orange\" : (255 , 0, 0),\n",
        "    \"Red\" : (255, 0, 0),\n",
        "    \"Yellow\" : (255, 255, 0),\n",
        "    \"Light Green\" : (0, 255, 0),\n",
        "    \"Green\" : (0, 128, 0),\n",
        "    \"Light Blue\" : (0, 255, 255),\n",
        "    \"Blue\" : (0, 0, 255),\n",
        "    \"Purple\" : (128, 0, 128),\n",
        "    \"Pink\" : (255, 192, 203)\n",
        "}\n",
        "input_color = (120, 100, 200)\n",
        "\n",
        "def find_nearest_color(input_rgb, color_set):\n",
        "    min_dist = float('inf')\n",
        "    nearest_name = None\n",
        "\n",
        "    for name, rgb in color_set.items():\n",
        "        dist = np.sqrt(sum((a-b) **2 for a, b in zip(input_rgb,rgb)))\n",
        "        if dist < min_dist:\n",
        "          min_dist = dist\n",
        "          nearest_name = name\n",
        "    return nearest_name, color_set[nearest_name]\n",
        "\n",
        "nearest_name, nearest_rgb = find_nearest_color(input_color, faber_castell_colors\n",
        ")\n",
        "print(f\"입력 색상: {input_color}\")\n",
        "print(f\"가장 가까운 파버카스텔 색상: {nearest_name}, RGB: {nearest_rgb}\")"
      ],
      "metadata": {
        "colab": {
          "base_uri": "https://localhost:8080/"
        },
        "id": "qn4lZUSXxZHV",
        "outputId": "5b90bba3-f7d7-4623-a215-1b132b36f782"
      },
      "execution_count": 7,
      "outputs": [
        {
          "output_type": "stream",
          "name": "stdout",
          "text": [
            "입력 색상: (120, 100, 200)\n",
            "가장 가까운 파버카스텔 색상: Purple, RGB: (128, 0, 128)\n"
          ]
        }
      ]
    },
    {
      "cell_type": "markdown",
      "source": [],
      "metadata": {
        "id": "Q_MCWvnEwdgI"
      }
    }
  ]
}